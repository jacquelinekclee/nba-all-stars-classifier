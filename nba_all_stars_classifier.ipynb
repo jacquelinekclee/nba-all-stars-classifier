{
 "cells": [
  {
   "cell_type": "markdown",
   "id": "c6a40040-28f4-4d8f-b0aa-982b08b4517b",
   "metadata": {},
   "source": [
    "# NBA All Stars Classifier\n",
    "\n",
    "For a full description on this project, please see the [Project website](https://jacquelinekclee.github.io/nba-all-stars-classifier.github.io/) and the [GitHub repository](https://github.com/jacquelinekclee/nba-all-stars-classifier.github.io)."
   ]
  },
  {
   "cell_type": "markdown",
   "id": "a4b94bd6-6611-4f2a-8aaa-0db6c8084f34",
   "metadata": {},
   "source": [
    "# Imports"
   ]
  },
  {
   "cell_type": "code",
   "execution_count": 1,
   "id": "e328889f-931e-4e90-b88d-a5690a4cc202",
   "metadata": {},
   "outputs": [],
   "source": [
    "import pandas as pd\n",
    "import numpy as np\n",
    "%load_ext autoreload\n",
    "%autoreload 2\n",
    "# source files can be found in the GitHub repository\n",
    "from nba_players_classification import *"
   ]
  },
  {
   "cell_type": "code",
   "execution_count": 2,
   "id": "d40d376c-5efe-4cb3-867c-aa26ca884072",
   "metadata": {},
   "outputs": [],
   "source": [
    "import sklearn\n",
    "import xgboost as xgb\n",
    "from sklearn import metrics\n",
    "from sklearn.model_selection import GridSearchCV, KFold\n",
    "from sklearn.ensemble import RandomForestClassifier\n",
    "from sklearn.model_selection import RandomizedSearchCV\n",
    "from sklearn.pipeline import Pipeline\n",
    "from sklearn.preprocessing import LabelEncoder\n",
    "from sklearn.preprocessing import OneHotEncoder\n",
    "from sklearn.compose import ColumnTransformer\n",
    "from sklearn.model_selection import train_test_split\n",
    "import matplotlib.pyplot as plt\n",
    "from sklearn.model_selection import learning_curve\n",
    "from sklearn.metrics import log_loss\n",
    "from sklearn.metrics import accuracy_score\n",
    "from sklearn.neighbors import KNeighborsClassifier\n",
    "from sklearn.preprocessing import MinMaxScaler"
   ]
  },
  {
   "cell_type": "markdown",
   "id": "e1271f0d-111b-469a-ac8a-5cc27b4f57bc",
   "metadata": {},
   "source": [
    "# Read In Data\n",
    "\n",
    "See GitHub repository for links to data sources and for notebook with data cleaning."
   ]
  },
  {
   "cell_type": "code",
   "execution_count": 3,
   "id": "3a951238-ad26-4bc1-b817-e8f88c841b61",
   "metadata": {},
   "outputs": [],
   "source": [
    "stats = pd.read_csv('players_1980_2017.csv')\n",
    "test_players = pd.read_csv('players_1819_cleaned.csv')\n",
    "test_2021 = pd.read_csv('players_2021_cleaned.csv')\n",
    "test_2022 = pd.read_csv('players_2022_cleaned.csv')"
   ]
  },
  {
   "cell_type": "code",
   "execution_count": 57,
   "id": "2cdf9e1f-0581-4df9-a3f9-59f1540ab569",
   "metadata": {},
   "outputs": [
    {
     "data": {
      "text/plain": [
       "0.05"
      ]
     },
     "execution_count": 57,
     "metadata": {},
     "output_type": "execute_result"
    }
   ],
   "source": [
    "round(test_players['All Star'].sum() / test_players.shape[0], 2)"
   ]
  },
  {
   "cell_type": "code",
   "execution_count": 58,
   "id": "96e16134-bde3-4105-9c83-5191ebbdf177",
   "metadata": {},
   "outputs": [
    {
     "data": {
      "text/plain": [
       "0.05"
      ]
     },
     "execution_count": 58,
     "metadata": {},
     "output_type": "execute_result"
    }
   ],
   "source": [
    "round(test_2021['All Star'].sum() / test_2021.shape[0], 2)"
   ]
  },
  {
   "cell_type": "code",
   "execution_count": 59,
   "id": "fa1b21a7-c35e-4f4c-a0ea-6e2a8cf7abe8",
   "metadata": {},
   "outputs": [
    {
     "data": {
      "text/plain": [
       "0.04"
      ]
     },
     "execution_count": 59,
     "metadata": {},
     "output_type": "execute_result"
    }
   ],
   "source": [
    "round(test_2022['All Star'].sum() / test_2022.shape[0], 2)"
   ]
  },
  {
   "cell_type": "code",
   "execution_count": 90,
   "id": "37b3c1f7-9cac-42a0-83e6-c220c2e21214",
   "metadata": {},
   "outputs": [
    {
     "data": {
      "text/plain": [
       "(22.93468988235943, 22.15851980616034, 24.596747752497688)"
      ]
     },
     "execution_count": 90,
     "metadata": {},
     "output_type": "execute_result"
    }
   ],
   "source": [
    "test_players.shape[0] ** 0.5, test_2021.shape[0] ** 0.5, test_2022.shape[0] ** 0.5"
   ]
  },
  {
   "cell_type": "markdown",
   "id": "fbc639b2-e589-4b8b-9c58-0a10b0b19043",
   "metadata": {},
   "source": [
    "# All Star Classifier<a class=\"anchor\" id=\"allstars\"></a>"
   ]
  },
  {
   "cell_type": "markdown",
   "id": "40e89e2e-f83d-4dfb-bfb6-d1556dec03a5",
   "metadata": {},
   "source": [
    "## Train K-Nearest Neigbors Classifier on 1950-2017 Data"
   ]
  },
  {
   "cell_type": "code",
   "execution_count": 4,
   "id": "52e88656-ea7f-4b4f-9c9b-cfec908f432f",
   "metadata": {},
   "outputs": [
    {
     "data": {
      "text/plain": [
       "Index(['Year', 'Player', 'Pos', 'TS%', 'RPG', 'APG', 'PPG', 'BPG', 'SPG',\n",
       "       'Pos_og', 'All Star', 'MVP'],\n",
       "      dtype='object')"
      ]
     },
     "execution_count": 4,
     "metadata": {},
     "output_type": "execute_result"
    }
   ],
   "source": [
    "stats.columns"
   ]
  },
  {
   "cell_type": "code",
   "execution_count": 5,
   "id": "f96f327b-6a76-46b2-987e-66eed367d1bc",
   "metadata": {},
   "outputs": [],
   "source": [
    "X_train_as = stats[['Year', 'Pos', 'TS%', 'RPG', 'APG', 'PPG', 'BPG', 'SPG']]\n",
    "y_train_as = stats['All Star'].astype(int)"
   ]
  },
  {
   "cell_type": "code",
   "execution_count": 6,
   "id": "42284892-3f2b-49b6-8074-74b63e629c59",
   "metadata": {},
   "outputs": [
    {
     "data": {
      "text/plain": [
       "Index(['Year', 'Pos', 'TS%', 'RPG', 'APG', 'PPG', 'BPG', 'SPG'], dtype='object')"
      ]
     },
     "execution_count": 6,
     "metadata": {},
     "output_type": "execute_result"
    }
   ],
   "source": [
    "X_train_as.columns"
   ]
  },
  {
   "cell_type": "code",
   "execution_count": 97,
   "id": "7eeaa9c7-6b8a-4510-af8e-776e293dabf8",
   "metadata": {},
   "outputs": [],
   "source": [
    "scalar = MinMaxScaler()\n",
    "knn = KNeighborsClassifier()\n",
    "\n",
    "num_feat = ['Year','TS%', 'RPG', 'APG', 'PPG', 'BPG', 'SPG']\n",
    "pl1 = Pipeline([\n",
    "    ('min_max', scalar)\n",
    "])\n",
    "\n",
    "pl2 = Pipeline([\n",
    "    ('pos', OneHotEncoder())\n",
    "])\n",
    "# preprocessing pipeline (put them together)\n",
    "preproc = ColumnTransformer(\n",
    "    transformers=[\n",
    "        ('scaling', pl1, num_feat),\n",
    "        ('step_name', pl2, ['Pos'])\n",
    "    ])\n",
    "\n",
    "\n",
    "pipeline = Pipeline([('preprocessor', preproc), ('clf', knn)])\n",
    "\n",
    "knn_grid_params = {'clf__n_neighbors' : [19, 21, 23, 25, 27],\n",
    "                   'clf__weights' : ['uniform','distance'],\n",
    "                   'clf__metric' : ['minkowski','euclidean','manhattan']}\n",
    "\n",
    "knn_gs = GridSearchCV(pipeline, knn_grid_params, verbose = 1, cv=3, n_jobs = -1, scoring = 'recall')"
   ]
  },
  {
   "cell_type": "code",
   "execution_count": 98,
   "id": "efa05a34-c294-47c4-8421-c9bbc0e61321",
   "metadata": {},
   "outputs": [
    {
     "name": "stdout",
     "output_type": "stream",
     "text": [
      "Fitting 3 folds for each of 30 candidates, totalling 90 fits\n"
     ]
    },
    {
     "data": {
      "text/plain": [
       "GridSearchCV(cv=3,\n",
       "             estimator=Pipeline(steps=[('preprocessor',\n",
       "                                        ColumnTransformer(transformers=[('scaling',\n",
       "                                                                         Pipeline(steps=[('min_max',\n",
       "                                                                                          MinMaxScaler())]),\n",
       "                                                                         ['Year',\n",
       "                                                                          'TS%',\n",
       "                                                                          'RPG',\n",
       "                                                                          'APG',\n",
       "                                                                          'PPG',\n",
       "                                                                          'BPG',\n",
       "                                                                          'SPG']),\n",
       "                                                                        ('step_name',\n",
       "                                                                         Pipeline(steps=[('pos',\n",
       "                                                                                          OneHotEncoder())]),\n",
       "                                                                         ['Pos'])])),\n",
       "                                       ('clf', KNeighborsClassifier())]),\n",
       "             n_jobs=-1,\n",
       "             param_grid={'clf__metric': ['minkowski', 'euclidean', 'manhattan'],\n",
       "                         'clf__n_neighbors': [19, 21, 23, 25, 27],\n",
       "                         'clf__weights': ['uniform', 'distance']},\n",
       "             scoring='recall', verbose=1)"
      ]
     },
     "execution_count": 98,
     "metadata": {},
     "output_type": "execute_result"
    }
   ],
   "source": [
    "knn_gs.fit(X_train_as, y_train_as)"
   ]
  },
  {
   "cell_type": "code",
   "execution_count": 99,
   "id": "d9f54f00-e69d-4e0b-a18e-b71a763f0593",
   "metadata": {},
   "outputs": [
    {
     "data": {
      "text/plain": [
       "{'clf__metric': 'minkowski',\n",
       " 'clf__n_neighbors': 19,\n",
       " 'clf__weights': 'distance'}"
      ]
     },
     "execution_count": 99,
     "metadata": {},
     "output_type": "execute_result"
    }
   ],
   "source": [
    "knn_gs.best_params_"
   ]
  },
  {
   "cell_type": "code",
   "execution_count": 100,
   "id": "415ee517-79c9-473f-9b57-69b3df63d121",
   "metadata": {},
   "outputs": [
    {
     "data": {
      "text/plain": [
       "0.4263277744290403"
      ]
     },
     "execution_count": 100,
     "metadata": {},
     "output_type": "execute_result"
    }
   ],
   "source": [
    "knn_gs.best_score_"
   ]
  },
  {
   "cell_type": "code",
   "execution_count": 101,
   "id": "05c68019-4b8d-4b44-bba3-7a4bbb2f8ade",
   "metadata": {
    "tags": []
   },
   "outputs": [
    {
     "data": {
      "text/plain": [
       "Index(['Year', 'Pos', 'TS%', 'RPG', 'APG', 'PPG', 'BPG', 'SPG'], dtype='object')"
      ]
     },
     "execution_count": 101,
     "metadata": {},
     "output_type": "execute_result"
    }
   ],
   "source": [
    "X_train_as.columns"
   ]
  },
  {
   "cell_type": "markdown",
   "id": "5bdf96a8-6a70-490d-bbff-e84ec914d5e5",
   "metadata": {},
   "source": [
    "## Test on 2018-2019 Data"
   ]
  },
  {
   "cell_type": "code",
   "execution_count": 102,
   "id": "43d3b851-323d-47ce-af76-7cd343c6f521",
   "metadata": {},
   "outputs": [],
   "source": [
    "X_test_as = test_players[X_train_as.columns]\n",
    "y_test_as = test_players['All Star'].astype(int)"
   ]
  },
  {
   "cell_type": "code",
   "execution_count": 103,
   "id": "7b7fb119-9353-4e6d-bdbc-a3d9b0541506",
   "metadata": {},
   "outputs": [],
   "source": [
    "test_as_pred = knn_gs.predict(X_test_as)"
   ]
  },
  {
   "cell_type": "code",
   "execution_count": 104,
   "id": "ebc17f50-3d8d-4fa1-bb9b-dd712f7e645f",
   "metadata": {},
   "outputs": [
    {
     "data": {
      "text/plain": [
       "0.6153846153846154"
      ]
     },
     "execution_count": 104,
     "metadata": {},
     "output_type": "execute_result"
    }
   ],
   "source": [
    "metrics.recall_score(y_test_as, test_as_pred)"
   ]
  },
  {
   "cell_type": "code",
   "execution_count": 105,
   "id": "c3fb793e-1858-4ada-b026-d99ca8283b78",
   "metadata": {},
   "outputs": [],
   "source": [
    "knn_as_results = X_test_as.copy()\n",
    "knn_as_results['prediction'] = test_as_pred\n",
    "knn_as_results['All Star'] = y_test_as"
   ]
  },
  {
   "cell_type": "code",
   "execution_count": 106,
   "id": "2d38fc3c-edb6-4538-9f2b-5aac03566c28",
   "metadata": {},
   "outputs": [],
   "source": [
    "num_all_stars_2019 = test_players.loc[test_players['All Star']].shape[0]"
   ]
  },
  {
   "cell_type": "markdown",
   "id": "b0cf6013-2829-486c-89bc-42354de1cef5",
   "metadata": {},
   "source": [
    "### Correctly Predicted All Stars "
   ]
  },
  {
   "cell_type": "code",
   "execution_count": 107,
   "id": "580313a8-e312-4e5f-af68-3657299cb6be",
   "metadata": {},
   "outputs": [
    {
     "data": {
      "text/plain": [
       "17     Giannis Antetokounmpo\n",
       "39              Bradley Beal\n",
       "123            Stephen Curry\n",
       "125            Anthony Davis\n",
       "149             Kevin Durant\n",
       "154              Joel Embiid\n",
       "183              Paul George\n",
       "202            Blake Griffin\n",
       "206             James Harden\n",
       "248             Kyrie Irving\n",
       "257             LeBron James\n",
       "298            Kawhi Leonard\n",
       "302           Damian Lillard\n",
       "477       Karl-Anthony Towns\n",
       "492             Kemba Walker\n",
       "501        Russell Westbrook\n",
       "Name: Player, dtype: object"
      ]
     },
     "execution_count": 107,
     "metadata": {},
     "output_type": "execute_result"
    }
   ],
   "source": [
    "correct_as_2019 = test_players.loc[knn_as_results.loc[(knn_as_results.prediction==1) & (knn_as_results['All Star'])].index].Player\n",
    "correct_as_2019"
   ]
  },
  {
   "cell_type": "markdown",
   "id": "4a824614-b43e-47d7-96f1-c319bcb4d962",
   "metadata": {},
   "source": [
    "### All Stars that Were Predicted Non-All Stars "
   ]
  },
  {
   "cell_type": "code",
   "execution_count": 108,
   "id": "6cbc6057-c55b-4b05-8047-8a9bd2b466f2",
   "metadata": {},
   "outputs": [],
   "source": [
    "as_pred_not_2019 = test_players.loc[knn_as_results.loc[(knn_as_results.prediction==0) & (knn_as_results['All Star'])].index].Player"
   ]
  },
  {
   "cell_type": "code",
   "execution_count": 109,
   "id": "11c03eb8-f793-4785-a500-4fe4459ad6c5",
   "metadata": {},
   "outputs": [
    {
     "data": {
      "text/plain": [
       "7      LaMarcus Aldridge\n",
       "268         Nikola Jokić\n",
       "310           Kyle Lowry\n",
       "343      Khris Middleton\n",
       "375        Dirk Nowitzki\n",
       "386       Victor Oladipo\n",
       "446          Ben Simmons\n",
       "473        Klay Thompson\n",
       "488       Nikola Vučević\n",
       "489          Dwyane Wade\n",
       "Name: Player, dtype: object"
      ]
     },
     "execution_count": 109,
     "metadata": {},
     "output_type": "execute_result"
    }
   ],
   "source": [
    "as_pred_not_2019"
   ]
  },
  {
   "cell_type": "code",
   "execution_count": 110,
   "id": "17c3aab2-ffcc-4232-9d4a-8f2b3cbe053b",
   "metadata": {},
   "outputs": [
    {
     "data": {
      "text/plain": [
       "0.38461538461538464"
      ]
     },
     "execution_count": 110,
     "metadata": {},
     "output_type": "execute_result"
    }
   ],
   "source": [
    "as_pred_not_2019.shape[0] / num_all_stars_2019"
   ]
  },
  {
   "cell_type": "markdown",
   "id": "817320da-c27d-409f-8bd7-201613bd82fc",
   "metadata": {},
   "source": [
    "### Players That Were Predicted to be All Stars But Weren't"
   ]
  },
  {
   "cell_type": "code",
   "execution_count": 111,
   "id": "578667f3-080f-47e3-9268-a76de79ff605",
   "metadata": {},
   "outputs": [
    {
     "data": {
      "text/plain": [
       "60      Devin Booker\n",
       "230     Jrue Holiday\n",
       "414    Julius Randle\n",
       "494        John Wall\n",
       "Name: Player, dtype: object"
      ]
     },
     "execution_count": 111,
     "metadata": {},
     "output_type": "execute_result"
    }
   ],
   "source": [
    "not_as_pred_as_2019 = test_players.loc[knn_as_results.loc[(knn_as_results.prediction==1) & ~(knn_as_results['All Star'])].index].Player\n",
    "not_as_pred_as_2019"
   ]
  },
  {
   "cell_type": "code",
   "execution_count": 112,
   "id": "7c9028ea-80d7-499b-9a9f-21143261217e",
   "metadata": {},
   "outputs": [
    {
     "data": {
      "text/plain": [
       "0.15384615384615385"
      ]
     },
     "execution_count": 112,
     "metadata": {},
     "output_type": "execute_result"
    }
   ],
   "source": [
    "not_as_pred_as_2019.shape[0] / num_all_stars_2019"
   ]
  },
  {
   "cell_type": "markdown",
   "id": "b8cd772a-0927-4673-852f-460210eb429e",
   "metadata": {},
   "source": [
    "## Test on 2020-2021"
   ]
  },
  {
   "cell_type": "code",
   "execution_count": 113,
   "id": "bc3ce308-e6d3-482e-90fc-29d017bc7f3c",
   "metadata": {},
   "outputs": [],
   "source": [
    "X_test_as_2021 = test_2021[X_train_as.columns]\n",
    "y_test_as_2021 = test_2021['All Star'].astype(int)"
   ]
  },
  {
   "cell_type": "code",
   "execution_count": 114,
   "id": "08fa68ee-e654-4395-a745-c70a73e7547e",
   "metadata": {},
   "outputs": [],
   "source": [
    "knn_as_results_2021 = X_test_as_2021.copy()\n",
    "knn_as_results_2021['prediction'] = knn_gs.predict(X_test_as_2021)\n",
    "knn_as_results_2021['All Star'] = y_test_as_2021"
   ]
  },
  {
   "cell_type": "code",
   "execution_count": 115,
   "id": "c72862fb-b6e5-47b0-9fc0-1ba4865989a8",
   "metadata": {},
   "outputs": [
    {
     "data": {
      "text/plain": [
       "0.7407407407407407"
      ]
     },
     "execution_count": 115,
     "metadata": {},
     "output_type": "execute_result"
    }
   ],
   "source": [
    "metrics.recall_score(y_test_as_2021, knn_as_results_2021['prediction'])"
   ]
  },
  {
   "cell_type": "code",
   "execution_count": 116,
   "id": "c294c35c-4c5a-422f-8709-fdc78ccac9d8",
   "metadata": {},
   "outputs": [],
   "source": [
    "num_all_stars_2021 = test_2021.loc[test_2021['All Star']].shape[0]"
   ]
  },
  {
   "cell_type": "markdown",
   "id": "2c2fe3e5-ed88-4d5a-9fa8-730cf87b9f61",
   "metadata": {},
   "source": [
    "### Correctly Predicted All Stars "
   ]
  },
  {
   "cell_type": "code",
   "execution_count": 117,
   "id": "804ceace-c88f-48c1-ba46-97ac90255df0",
   "metadata": {
    "tags": []
   },
   "outputs": [
    {
     "data": {
      "text/plain": [
       "11     Giannis Antetokounmpo\n",
       "36              Bradley Beal\n",
       "56              Devin Booker\n",
       "108            Stephen Curry\n",
       "109            Anthony Davis\n",
       "117              Luka Dončić\n",
       "126             Kevin Durant\n",
       "131              Joel Embiid\n",
       "156              Paul George\n",
       "181             James Harden\n",
       "220             Kyrie Irving\n",
       "227             LeBron James\n",
       "236             Nikola Jokić\n",
       "257              Zach LaVine\n",
       "263            Kawhi Leonard\n",
       "267           Damian Lillard\n",
       "383            Julius Randle\n",
       "403         Domantas Sabonis\n",
       "430             Jayson Tatum\n",
       "478          Zion Williamson\n",
       "Name: Player, dtype: object"
      ]
     },
     "execution_count": 117,
     "metadata": {},
     "output_type": "execute_result"
    }
   ],
   "source": [
    "correct_as_2021 = test_2021.loc[knn_as_results_2021.loc[(knn_as_results_2021.prediction==1) & (knn_as_results_2021['All Star'])].index].Player\n",
    "correct_as_2021"
   ]
  },
  {
   "cell_type": "markdown",
   "id": "2e43ebde-8ec7-4465-b65d-06d7ebb2e6b3",
   "metadata": {},
   "source": [
    "### All Stars That Were Predicted Non-All Stars"
   ]
  },
  {
   "cell_type": "code",
   "execution_count": 118,
   "id": "8bdffe2e-d244-4272-b46b-96f04c728ecf",
   "metadata": {},
   "outputs": [
    {
     "data": {
      "text/plain": [
       "68         Jaylen Brown\n",
       "98          Mike Conley\n",
       "161         Rudy Gobert\n",
       "315    Donovan Mitchell\n",
       "361          Chris Paul\n",
       "415         Ben Simmons\n",
       "454      Nikola Vučević\n",
       "Name: Player, dtype: object"
      ]
     },
     "execution_count": 118,
     "metadata": {},
     "output_type": "execute_result"
    }
   ],
   "source": [
    "as_pred_not_2021 = test_2021.loc[knn_as_results_2021.loc[(knn_as_results_2021.prediction==0) & (knn_as_results_2021['All Star'])].index].Player\n",
    "as_pred_not_2021"
   ]
  },
  {
   "cell_type": "code",
   "execution_count": 119,
   "id": "d3857ddb-87a7-440e-addf-88e9de9c9660",
   "metadata": {},
   "outputs": [
    {
     "data": {
      "text/plain": [
       "0.25925925925925924"
      ]
     },
     "execution_count": 119,
     "metadata": {},
     "output_type": "execute_result"
    }
   ],
   "source": [
    "as_pred_not_2021.shape[0] / num_all_stars_2021"
   ]
  },
  {
   "cell_type": "markdown",
   "id": "3bc442a1-3c5b-4801-b100-5d15badfeb10",
   "metadata": {},
   "source": [
    "### Players That Were Predicted to be All Stars But Weren't"
   ]
  },
  {
   "cell_type": "code",
   "execution_count": 120,
   "id": "f70aae76-1f5a-4d3b-a3c8-083399205cec",
   "metadata": {},
   "outputs": [
    {
     "data": {
      "text/plain": [
       "77                Jimmy Butler\n",
       "159    Shai Gilgeous-Alexander\n",
       "219             Brandon Ingram\n",
       "295                CJ McCollum\n",
       "443         Karl-Anthony Towns\n",
       "488                 Trae Young\n",
       "Name: Player, dtype: object"
      ]
     },
     "execution_count": 120,
     "metadata": {},
     "output_type": "execute_result"
    }
   ],
   "source": [
    "not_as_pred_as_2021 = test_2021.loc[knn_as_results_2021.loc[(knn_as_results_2021.prediction==1) & ~(knn_as_results_2021['All Star'])].index].Player\n",
    "not_as_pred_as_2021"
   ]
  },
  {
   "cell_type": "code",
   "execution_count": 121,
   "id": "5fa14007-7c34-443a-9d9e-c7718085da59",
   "metadata": {},
   "outputs": [
    {
     "data": {
      "text/plain": [
       "0.2222222222222222"
      ]
     },
     "execution_count": 121,
     "metadata": {},
     "output_type": "execute_result"
    }
   ],
   "source": [
    "not_as_pred_as_2021.shape[0] / num_all_stars_2021"
   ]
  },
  {
   "cell_type": "markdown",
   "id": "ecacb381-69e1-49ca-bd8f-7051a72ef3a1",
   "metadata": {},
   "source": [
    "## Test on 2021-2022"
   ]
  },
  {
   "cell_type": "code",
   "execution_count": 122,
   "id": "1789febe-41b4-41e3-8f21-7fa340462cf1",
   "metadata": {},
   "outputs": [],
   "source": [
    "X_test_as_2022 = test_2022[X_train_as.columns]\n",
    "y_test_as_2022 = test_2022['All Star'].astype(int)\n",
    "knn_as_results_2022 = X_test_as_2022.copy()\n",
    "knn_as_results_2022['prediction'] = knn_gs.predict(X_test_as_2022)\n",
    "knn_as_results_2022['All Star'] = y_test_as_2022"
   ]
  },
  {
   "cell_type": "code",
   "execution_count": 123,
   "id": "99b58ae3-686b-49f4-968a-76e3680e7ca9",
   "metadata": {},
   "outputs": [
    {
     "data": {
      "text/plain": [
       "0.6666666666666666"
      ]
     },
     "execution_count": 123,
     "metadata": {},
     "output_type": "execute_result"
    }
   ],
   "source": [
    "metrics.recall_score(y_test_as_2022, knn_as_results_2022['prediction'])"
   ]
  },
  {
   "cell_type": "code",
   "execution_count": 124,
   "id": "1e6b5d1a-d06b-4334-84e8-58f092a29a2c",
   "metadata": {},
   "outputs": [],
   "source": [
    "num_all_stars_2022 = test_2022.loc[test_2022['All Star']].shape[0]"
   ]
  },
  {
   "cell_type": "markdown",
   "id": "702eb8a0-c979-458c-9774-2a0c8c21a949",
   "metadata": {},
   "source": [
    "### Correctly Predicted All Stars"
   ]
  },
  {
   "cell_type": "code",
   "execution_count": 125,
   "id": "fa4f9097-4d85-45f7-88db-3885e5418631",
   "metadata": {},
   "outputs": [
    {
     "data": {
      "text/plain": [
       "11     Giannis Antetokounmpo\n",
       "58              Devin Booker\n",
       "86              Jimmy Butler\n",
       "125            Stephen Curry\n",
       "133            DeMar DeRozan\n",
       "140              Luka Dončić\n",
       "153             Kevin Durant\n",
       "161              Joel Embiid\n",
       "216             James Harden\n",
       "272             LeBron James\n",
       "288             Nikola Jokić\n",
       "382         Donovan Mitchell\n",
       "389                Ja Morant\n",
       "399          Dejounte Murray\n",
       "437               Chris Paul\n",
       "525             Jayson Tatum\n",
       "545       Karl-Anthony Towns\n",
       "601               Trae Young\n",
       "Name: Player, dtype: object"
      ]
     },
     "execution_count": 125,
     "metadata": {},
     "output_type": "execute_result"
    }
   ],
   "source": [
    "correct_as_2022 = test_2022.loc[knn_as_results_2022.loc[(knn_as_results_2022.prediction==1) & (knn_as_results_2022['All Star'])].index].Player\n",
    "correct_as_2022"
   ]
  },
  {
   "cell_type": "markdown",
   "id": "772466c0-3403-4ce2-981b-962069b60a02",
   "metadata": {},
   "source": [
    "### All Stars That Were Predicted Non-All Stars"
   ]
  },
  {
   "cell_type": "code",
   "execution_count": 126,
   "id": "16754705-59cf-46ef-940f-14a9e6a10c8e",
   "metadata": {},
   "outputs": [
    {
     "data": {
      "text/plain": [
       "7        Jarrett Allen\n",
       "24         LaMelo Ball\n",
       "182     Darius Garland\n",
       "193        Rudy Gobert\n",
       "202     Draymond Green\n",
       "323        Zach LaVine\n",
       "376    Khris Middleton\n",
       "553      Fred VanVleet\n",
       "581     Andrew Wiggins\n",
       "Name: Player, dtype: object"
      ]
     },
     "execution_count": 126,
     "metadata": {},
     "output_type": "execute_result"
    }
   ],
   "source": [
    "as_pred_not_2022 = test_2022.loc[knn_as_results_2022.loc[(knn_as_results_2022.prediction==0) & (knn_as_results_2022['All Star'])].index].Player\n",
    "as_pred_not_2022"
   ]
  },
  {
   "cell_type": "code",
   "execution_count": 127,
   "id": "94fb9022-6b79-4258-bae3-fc8811bd614f",
   "metadata": {},
   "outputs": [
    {
     "data": {
      "text/plain": [
       "0.3333333333333333"
      ]
     },
     "execution_count": 127,
     "metadata": {},
     "output_type": "execute_result"
    }
   ],
   "source": [
    "as_pred_not_2022.shape[0] / num_all_stars_2022"
   ]
  },
  {
   "cell_type": "markdown",
   "id": "8ff98ced-425d-42db-9cb1-ceda929df9db",
   "metadata": {},
   "source": [
    "### Players That Were Predicted to be All Stars But Weren't"
   ]
  },
  {
   "cell_type": "code",
   "execution_count": 128,
   "id": "c6f1e2b9-c9b0-4779-8b87-5027fb0fd728",
   "metadata": {},
   "outputs": [
    {
     "data": {
      "text/plain": [
       "40                Bradley Beal\n",
       "126              Anthony Davis\n",
       "187                Paul George\n",
       "190    Shai Gilgeous-Alexander\n",
       "264               Kyrie Irving\n",
       "500              Pascal Siakam\n",
       "Name: Player, dtype: object"
      ]
     },
     "execution_count": 128,
     "metadata": {},
     "output_type": "execute_result"
    }
   ],
   "source": [
    "not_as_pred_as_2022 = test_2022.loc[knn_as_results_2022.loc[(knn_as_results_2022.prediction==1) & ~(knn_as_results_2022['All Star'])].index].Player\n",
    "not_as_pred_as_2022"
   ]
  },
  {
   "cell_type": "markdown",
   "id": "926e9db8-32dd-4147-9c3c-acb1053fa797",
   "metadata": {},
   "source": [
    "## All Stars Classifier Summary<a class=\"anchor\" id=\"allstarsummary\"></a>"
   ]
  },
  {
   "cell_type": "code",
   "execution_count": 158,
   "id": "3ceb0810-41bf-44c8-b0dd-7a89e546491c",
   "metadata": {},
   "outputs": [],
   "source": [
    "as_2022 = test_2022.loc[test_2022['All Star']][['Player', 'Pos', 'Age', 'TS%', 'RPG', 'APG', 'PPG', 'BPG', 'SPG','All Star','Year']]"
   ]
  },
  {
   "cell_type": "code",
   "execution_count": 159,
   "id": "c0e8a582-a156-438a-ada0-d50946dc902e",
   "metadata": {},
   "outputs": [],
   "source": [
    "def rating_col(player):\n",
    "    if player in correct_as_2022.values:\n",
    "        return 'properly rated'\n",
    "    elif player in as_pred_not_2022.values:\n",
    "        return 'overrated'"
   ]
  },
  {
   "cell_type": "code",
   "execution_count": 160,
   "id": "e663e260-c918-4515-a0f2-753f5dae83ea",
   "metadata": {},
   "outputs": [],
   "source": [
    "as_2022['Rating'] = as_2022.Player.apply(rating_col)"
   ]
  },
  {
   "cell_type": "code",
   "execution_count": 161,
   "id": "cc79b119-2e18-4fba-8d3f-7ec0cba873d2",
   "metadata": {},
   "outputs": [],
   "source": [
    "as_summary_2022 = as_2022[['Player', 'Rating', 'Year']]"
   ]
  },
  {
   "cell_type": "code",
   "execution_count": 162,
   "id": "3dadba56-86a4-4a33-85ec-4efe084d2f3a",
   "metadata": {},
   "outputs": [],
   "source": [
    "as_other_2022 = not_as_pred_as_2022.to_frame(name = 'Player')\n",
    "as_other_2022['Rating'] = 'underrated'\n",
    "as_other_2022['Year'] = 2022"
   ]
  },
  {
   "cell_type": "code",
   "execution_count": 163,
   "id": "483b15c3-b2e9-4182-95bc-75053cbba4f2",
   "metadata": {
    "tags": []
   },
   "outputs": [],
   "source": [
    "as_summary_2022 = pd.concat([as_other_2022, as_summary_2022]).sort_values('Rating')"
   ]
  },
  {
   "cell_type": "code",
   "execution_count": 164,
   "id": "20835a63-d366-434e-84bd-7da43677e10e",
   "metadata": {},
   "outputs": [],
   "source": [
    "as_2021 = test_2021.loc[test_2021['All Star']][['Player', 'Pos', 'TS%', 'RPG', 'APG', 'PPG', 'BPG', 'SPG','All Star','Year']]\n",
    "def rating_col(player):\n",
    "    if player in correct_as_2021.values:\n",
    "        return 'properly rated'\n",
    "    elif player in as_pred_not_2021.values:\n",
    "        return 'overrated'\n",
    "as_2021['Rating'] = as_2021.Player.apply(rating_col)\n",
    "as_summary_2021 = as_2021[['Player', 'Rating', 'Year']]\n",
    "as_other_2021 = not_as_pred_as_2021.to_frame(name = 'Player')\n",
    "as_other_2021['Rating'] = 'underrated'\n",
    "as_other_2021['Year'] = 2021\n",
    "as_summary_2021 = pd.concat([as_other_2021, as_summary_2021]).sort_values('Rating')"
   ]
  },
  {
   "cell_type": "code",
   "execution_count": 165,
   "id": "3adc5b2b-2117-40df-bb5b-e086e5cf8a7f",
   "metadata": {},
   "outputs": [],
   "source": [
    "as_2019 = test_players.loc[test_players['All Star']][['Player', 'Pos', 'TS%', 'RPG', 'APG', 'PPG', 'BPG', 'SPG','All Star','Year']]\n",
    "def rating_col(player):\n",
    "    if player in correct_as_2019.values:\n",
    "        return 'properly rated'\n",
    "    elif player in as_pred_not_2019.values:\n",
    "        return 'overrated'\n",
    "as_2019['Rating'] = as_2019.Player.apply(rating_col)\n",
    "as_summary_2019 = as_2019[['Player', 'Rating', 'Year']]\n",
    "as_other_2019 = not_as_pred_as_2019.to_frame(name = 'Player')\n",
    "as_other_2019['Rating'] = 'underrated'\n",
    "as_other_2019['Year'] = 2019\n",
    "as_summary_2019 = pd.concat([as_other_2019, as_summary_2019]).sort_values('Rating')"
   ]
  },
  {
   "cell_type": "code",
   "execution_count": 166,
   "id": "ff0324e3-46b2-427f-ab52-d427a7989a67",
   "metadata": {},
   "outputs": [],
   "source": [
    "as_summaries = pd.concat([as_summary_2019, as_summary_2021, as_summary_2022])"
   ]
  },
  {
   "cell_type": "code",
   "execution_count": 167,
   "id": "ffd84152-f1e6-4dc9-861e-8866c2dfaa41",
   "metadata": {},
   "outputs": [],
   "source": [
    "as_summaries['Year'] = as_summaries['Year'].astype(str)"
   ]
  },
  {
   "cell_type": "code",
   "execution_count": 168,
   "id": "16da181c-b4ea-4db0-9427-5b1324ce7b14",
   "metadata": {},
   "outputs": [],
   "source": [
    "as_summaries_grouped = as_summaries.groupby('Player').agg({'Rating':', '.join, 'Year':', '.join}).reset_index()"
   ]
  },
  {
   "cell_type": "code",
   "execution_count": 180,
   "id": "0f9601d8-8099-400e-94e3-8fd85d834dac",
   "metadata": {},
   "outputs": [
    {
     "name": "stdout",
     "output_type": "stream",
     "text": [
      "Giannis Antetokounmpo\n",
      "James Harden\n",
      "Joel Embiid\n",
      "Kevin Durant\n",
      "LeBron James\n",
      "Stephen Curry\n"
     ]
    },
    {
     "data": {
      "text/plain": [
       "[None, None, None, None, None, None]"
      ]
     },
     "execution_count": 180,
     "metadata": {},
     "output_type": "execute_result"
    }
   ],
   "source": [
    "[print(n) for n in as_summaries_grouped.loc[as_summaries_grouped.Rating == 'properly rated, properly rated, properly rated'].Player.values]"
   ]
  },
  {
   "cell_type": "code",
   "execution_count": 184,
   "id": "4811e309-8f10-48d6-8c0b-bfe48a15fcaf",
   "metadata": {},
   "outputs": [
    {
     "data": {
      "text/html": [
       "<div>\n",
       "<style scoped>\n",
       "    .dataframe tbody tr th:only-of-type {\n",
       "        vertical-align: middle;\n",
       "    }\n",
       "\n",
       "    .dataframe tbody tr th {\n",
       "        vertical-align: top;\n",
       "    }\n",
       "\n",
       "    .dataframe thead th {\n",
       "        text-align: right;\n",
       "    }\n",
       "</style>\n",
       "<table border=\"1\" class=\"dataframe\">\n",
       "  <thead>\n",
       "    <tr style=\"text-align: right;\">\n",
       "      <th></th>\n",
       "      <th>Player</th>\n",
       "      <th>Rating</th>\n",
       "      <th>Year</th>\n",
       "    </tr>\n",
       "  </thead>\n",
       "  <tbody>\n",
       "    <tr>\n",
       "      <th>1</th>\n",
       "      <td>Anthony Davis</td>\n",
       "      <td>properly rated, properly rated, underrated</td>\n",
       "      <td>2019, 2021, 2022</td>\n",
       "    </tr>\n",
       "    <tr>\n",
       "      <th>4</th>\n",
       "      <td>Bradley Beal</td>\n",
       "      <td>properly rated, properly rated, underrated</td>\n",
       "      <td>2019, 2021, 2022</td>\n",
       "    </tr>\n",
       "    <tr>\n",
       "      <th>12</th>\n",
       "      <td>Devin Booker</td>\n",
       "      <td>underrated, properly rated, properly rated</td>\n",
       "      <td>2019, 2021, 2022</td>\n",
       "    </tr>\n",
       "    <tr>\n",
       "      <th>30</th>\n",
       "      <td>Karl-Anthony Towns</td>\n",
       "      <td>properly rated, underrated, properly rated</td>\n",
       "      <td>2019, 2021, 2022</td>\n",
       "    </tr>\n",
       "    <tr>\n",
       "      <th>37</th>\n",
       "      <td>Kyrie Irving</td>\n",
       "      <td>properly rated, properly rated, underrated</td>\n",
       "      <td>2019, 2021, 2022</td>\n",
       "    </tr>\n",
       "    <tr>\n",
       "      <th>43</th>\n",
       "      <td>Nikola Jokić</td>\n",
       "      <td>overrated, properly rated, properly rated</td>\n",
       "      <td>2019, 2021, 2022</td>\n",
       "    </tr>\n",
       "    <tr>\n",
       "      <th>46</th>\n",
       "      <td>Paul George</td>\n",
       "      <td>properly rated, properly rated, underrated</td>\n",
       "      <td>2019, 2021, 2022</td>\n",
       "    </tr>\n",
       "  </tbody>\n",
       "</table>\n",
       "</div>"
      ],
      "text/plain": [
       "                Player                                      Rating  \\\n",
       "1        Anthony Davis  properly rated, properly rated, underrated   \n",
       "4         Bradley Beal  properly rated, properly rated, underrated   \n",
       "12        Devin Booker  underrated, properly rated, properly rated   \n",
       "30  Karl-Anthony Towns  properly rated, underrated, properly rated   \n",
       "37        Kyrie Irving  properly rated, properly rated, underrated   \n",
       "43        Nikola Jokić   overrated, properly rated, properly rated   \n",
       "46         Paul George  properly rated, properly rated, underrated   \n",
       "\n",
       "                Year  \n",
       "1   2019, 2021, 2022  \n",
       "4   2019, 2021, 2022  \n",
       "12  2019, 2021, 2022  \n",
       "30  2019, 2021, 2022  \n",
       "37  2019, 2021, 2022  \n",
       "43  2019, 2021, 2022  \n",
       "46  2019, 2021, 2022  "
      ]
     },
     "execution_count": 184,
     "metadata": {},
     "output_type": "execute_result"
    }
   ],
   "source": [
    "as_summaries_grouped.loc[(as_summaries_grouped.Year == '2019, 2021, 2022') & ~(as_summaries_grouped.Rating == 'properly rated, properly rated, properly rated')]"
   ]
  },
  {
   "cell_type": "code",
   "execution_count": 176,
   "id": "518a0156-6cc8-464d-9b04-3c0fe86137a2",
   "metadata": {},
   "outputs": [
    {
     "data": {
      "text/html": [
       "<div>\n",
       "<style scoped>\n",
       "    .dataframe tbody tr th:only-of-type {\n",
       "        vertical-align: middle;\n",
       "    }\n",
       "\n",
       "    .dataframe tbody tr th {\n",
       "        vertical-align: top;\n",
       "    }\n",
       "\n",
       "    .dataframe thead th {\n",
       "        text-align: right;\n",
       "    }\n",
       "</style>\n",
       "<table border=\"1\" class=\"dataframe\">\n",
       "  <thead>\n",
       "    <tr style=\"text-align: right;\">\n",
       "      <th></th>\n",
       "      <th>Player</th>\n",
       "      <th>Rating</th>\n",
       "      <th>Year</th>\n",
       "    </tr>\n",
       "  </thead>\n",
       "  <tbody>\n",
       "    <tr>\n",
       "      <th>5</th>\n",
       "      <td>Brandon Ingram</td>\n",
       "      <td>underrated</td>\n",
       "      <td>2021</td>\n",
       "    </tr>\n",
       "    <tr>\n",
       "      <th>6</th>\n",
       "      <td>CJ McCollum</td>\n",
       "      <td>underrated</td>\n",
       "      <td>2021</td>\n",
       "    </tr>\n",
       "    <tr>\n",
       "      <th>27</th>\n",
       "      <td>John Wall</td>\n",
       "      <td>underrated</td>\n",
       "      <td>2019</td>\n",
       "    </tr>\n",
       "    <tr>\n",
       "      <th>28</th>\n",
       "      <td>Jrue Holiday</td>\n",
       "      <td>underrated</td>\n",
       "      <td>2019</td>\n",
       "    </tr>\n",
       "    <tr>\n",
       "      <th>45</th>\n",
       "      <td>Pascal Siakam</td>\n",
       "      <td>underrated</td>\n",
       "      <td>2022</td>\n",
       "    </tr>\n",
       "    <tr>\n",
       "      <th>49</th>\n",
       "      <td>Shai Gilgeous-Alexander</td>\n",
       "      <td>underrated, underrated</td>\n",
       "      <td>2021, 2022</td>\n",
       "    </tr>\n",
       "  </tbody>\n",
       "</table>\n",
       "</div>"
      ],
      "text/plain": [
       "                     Player                  Rating        Year\n",
       "5            Brandon Ingram              underrated        2021\n",
       "6               CJ McCollum              underrated        2021\n",
       "27                John Wall              underrated        2019\n",
       "28             Jrue Holiday              underrated        2019\n",
       "45            Pascal Siakam              underrated        2022\n",
       "49  Shai Gilgeous-Alexander  underrated, underrated  2021, 2022"
      ]
     },
     "execution_count": 176,
     "metadata": {},
     "output_type": "execute_result"
    }
   ],
   "source": [
    "as_summaries_grouped.loc[as_summaries_grouped.Rating.isin(['underrated, underrated', 'underrated, underrated, underrated', 'underrated'])]"
   ]
  },
  {
   "cell_type": "code",
   "execution_count": 191,
   "id": "2b9dfa18-9510-40cb-8e1b-fcf3be3db5b0",
   "metadata": {},
   "outputs": [
    {
     "data": {
      "text/html": [
       "<div>\n",
       "<style scoped>\n",
       "    .dataframe tbody tr th:only-of-type {\n",
       "        vertical-align: middle;\n",
       "    }\n",
       "\n",
       "    .dataframe tbody tr th {\n",
       "        vertical-align: top;\n",
       "    }\n",
       "\n",
       "    .dataframe thead th {\n",
       "        text-align: right;\n",
       "    }\n",
       "</style>\n",
       "<table border=\"1\" class=\"dataframe\">\n",
       "  <thead>\n",
       "    <tr style=\"text-align: right;\">\n",
       "      <th></th>\n",
       "      <th>Player</th>\n",
       "      <th>Rating</th>\n",
       "      <th>Year</th>\n",
       "    </tr>\n",
       "  </thead>\n",
       "  <tbody>\n",
       "    <tr>\n",
       "      <th>1</th>\n",
       "      <td>Anthony Davis</td>\n",
       "      <td>properly rated, properly rated, underrated</td>\n",
       "      <td>2019, 2021, 2022</td>\n",
       "    </tr>\n",
       "    <tr>\n",
       "      <th>4</th>\n",
       "      <td>Bradley Beal</td>\n",
       "      <td>properly rated, properly rated, underrated</td>\n",
       "      <td>2019, 2021, 2022</td>\n",
       "    </tr>\n",
       "    <tr>\n",
       "      <th>5</th>\n",
       "      <td>Brandon Ingram</td>\n",
       "      <td>underrated</td>\n",
       "      <td>2021</td>\n",
       "    </tr>\n",
       "    <tr>\n",
       "      <th>6</th>\n",
       "      <td>CJ McCollum</td>\n",
       "      <td>underrated</td>\n",
       "      <td>2021</td>\n",
       "    </tr>\n",
       "    <tr>\n",
       "      <th>12</th>\n",
       "      <td>Devin Booker</td>\n",
       "      <td>underrated, properly rated, properly rated</td>\n",
       "      <td>2019, 2021, 2022</td>\n",
       "    </tr>\n",
       "    <tr>\n",
       "      <th>25</th>\n",
       "      <td>Jimmy Butler</td>\n",
       "      <td>underrated, properly rated</td>\n",
       "      <td>2021, 2022</td>\n",
       "    </tr>\n",
       "    <tr>\n",
       "      <th>27</th>\n",
       "      <td>John Wall</td>\n",
       "      <td>underrated</td>\n",
       "      <td>2019</td>\n",
       "    </tr>\n",
       "    <tr>\n",
       "      <th>28</th>\n",
       "      <td>Jrue Holiday</td>\n",
       "      <td>underrated</td>\n",
       "      <td>2019</td>\n",
       "    </tr>\n",
       "    <tr>\n",
       "      <th>29</th>\n",
       "      <td>Julius Randle</td>\n",
       "      <td>underrated, properly rated</td>\n",
       "      <td>2019, 2021</td>\n",
       "    </tr>\n",
       "    <tr>\n",
       "      <th>30</th>\n",
       "      <td>Karl-Anthony Towns</td>\n",
       "      <td>properly rated, underrated, properly rated</td>\n",
       "      <td>2019, 2021, 2022</td>\n",
       "    </tr>\n",
       "    <tr>\n",
       "      <th>37</th>\n",
       "      <td>Kyrie Irving</td>\n",
       "      <td>properly rated, properly rated, underrated</td>\n",
       "      <td>2019, 2021, 2022</td>\n",
       "    </tr>\n",
       "    <tr>\n",
       "      <th>45</th>\n",
       "      <td>Pascal Siakam</td>\n",
       "      <td>underrated</td>\n",
       "      <td>2022</td>\n",
       "    </tr>\n",
       "    <tr>\n",
       "      <th>46</th>\n",
       "      <td>Paul George</td>\n",
       "      <td>properly rated, properly rated, underrated</td>\n",
       "      <td>2019, 2021, 2022</td>\n",
       "    </tr>\n",
       "    <tr>\n",
       "      <th>49</th>\n",
       "      <td>Shai Gilgeous-Alexander</td>\n",
       "      <td>underrated, underrated</td>\n",
       "      <td>2021, 2022</td>\n",
       "    </tr>\n",
       "    <tr>\n",
       "      <th>51</th>\n",
       "      <td>Trae Young</td>\n",
       "      <td>underrated, properly rated</td>\n",
       "      <td>2021, 2022</td>\n",
       "    </tr>\n",
       "  </tbody>\n",
       "</table>\n",
       "</div>"
      ],
      "text/plain": [
       "                     Player                                      Rating  \\\n",
       "1             Anthony Davis  properly rated, properly rated, underrated   \n",
       "4              Bradley Beal  properly rated, properly rated, underrated   \n",
       "5            Brandon Ingram                                  underrated   \n",
       "6               CJ McCollum                                  underrated   \n",
       "12             Devin Booker  underrated, properly rated, properly rated   \n",
       "25             Jimmy Butler                  underrated, properly rated   \n",
       "27                John Wall                                  underrated   \n",
       "28             Jrue Holiday                                  underrated   \n",
       "29            Julius Randle                  underrated, properly rated   \n",
       "30       Karl-Anthony Towns  properly rated, underrated, properly rated   \n",
       "37             Kyrie Irving  properly rated, properly rated, underrated   \n",
       "45            Pascal Siakam                                  underrated   \n",
       "46              Paul George  properly rated, properly rated, underrated   \n",
       "49  Shai Gilgeous-Alexander                      underrated, underrated   \n",
       "51               Trae Young                  underrated, properly rated   \n",
       "\n",
       "                Year  \n",
       "1   2019, 2021, 2022  \n",
       "4   2019, 2021, 2022  \n",
       "5               2021  \n",
       "6               2021  \n",
       "12  2019, 2021, 2022  \n",
       "25        2021, 2022  \n",
       "27              2019  \n",
       "28              2019  \n",
       "29        2019, 2021  \n",
       "30  2019, 2021, 2022  \n",
       "37  2019, 2021, 2022  \n",
       "45              2022  \n",
       "46  2019, 2021, 2022  \n",
       "49        2021, 2022  \n",
       "51        2021, 2022  "
      ]
     },
     "execution_count": 191,
     "metadata": {},
     "output_type": "execute_result"
    }
   ],
   "source": [
    "as_summaries_grouped.loc[as_summaries_grouped.Rating.str.contains('underrated')]"
   ]
  },
  {
   "cell_type": "code",
   "execution_count": 185,
   "id": "8e8f2f53-aabe-4c08-8cb2-d2ed7187473f",
   "metadata": {},
   "outputs": [
    {
     "data": {
      "text/html": [
       "<div>\n",
       "<style scoped>\n",
       "    .dataframe tbody tr th:only-of-type {\n",
       "        vertical-align: middle;\n",
       "    }\n",
       "\n",
       "    .dataframe tbody tr th {\n",
       "        vertical-align: top;\n",
       "    }\n",
       "\n",
       "    .dataframe thead th {\n",
       "        text-align: right;\n",
       "    }\n",
       "</style>\n",
       "<table border=\"1\" class=\"dataframe\">\n",
       "  <thead>\n",
       "    <tr style=\"text-align: right;\">\n",
       "      <th></th>\n",
       "      <th>Player</th>\n",
       "      <th>Rating</th>\n",
       "      <th>Year</th>\n",
       "    </tr>\n",
       "  </thead>\n",
       "  <tbody>\n",
       "    <tr>\n",
       "      <th>0</th>\n",
       "      <td>Andrew Wiggins</td>\n",
       "      <td>overrated</td>\n",
       "      <td>2022</td>\n",
       "    </tr>\n",
       "    <tr>\n",
       "      <th>2</th>\n",
       "      <td>Ben Simmons</td>\n",
       "      <td>overrated, overrated</td>\n",
       "      <td>2019, 2021</td>\n",
       "    </tr>\n",
       "    <tr>\n",
       "      <th>9</th>\n",
       "      <td>Darius Garland</td>\n",
       "      <td>overrated</td>\n",
       "      <td>2022</td>\n",
       "    </tr>\n",
       "    <tr>\n",
       "      <th>13</th>\n",
       "      <td>Dirk Nowitzki</td>\n",
       "      <td>overrated</td>\n",
       "      <td>2019</td>\n",
       "    </tr>\n",
       "    <tr>\n",
       "      <th>16</th>\n",
       "      <td>Draymond Green</td>\n",
       "      <td>overrated</td>\n",
       "      <td>2022</td>\n",
       "    </tr>\n",
       "    <tr>\n",
       "      <th>17</th>\n",
       "      <td>Dwyane Wade</td>\n",
       "      <td>overrated</td>\n",
       "      <td>2019</td>\n",
       "    </tr>\n",
       "    <tr>\n",
       "      <th>18</th>\n",
       "      <td>Fred VanVleet</td>\n",
       "      <td>overrated</td>\n",
       "      <td>2022</td>\n",
       "    </tr>\n",
       "    <tr>\n",
       "      <th>22</th>\n",
       "      <td>Jarrett Allen</td>\n",
       "      <td>overrated</td>\n",
       "      <td>2022</td>\n",
       "    </tr>\n",
       "    <tr>\n",
       "      <th>23</th>\n",
       "      <td>Jaylen Brown</td>\n",
       "      <td>overrated</td>\n",
       "      <td>2021</td>\n",
       "    </tr>\n",
       "    <tr>\n",
       "      <th>34</th>\n",
       "      <td>Khris Middleton</td>\n",
       "      <td>overrated, overrated</td>\n",
       "      <td>2019, 2022</td>\n",
       "    </tr>\n",
       "    <tr>\n",
       "      <th>35</th>\n",
       "      <td>Klay Thompson</td>\n",
       "      <td>overrated</td>\n",
       "      <td>2019</td>\n",
       "    </tr>\n",
       "    <tr>\n",
       "      <th>36</th>\n",
       "      <td>Kyle Lowry</td>\n",
       "      <td>overrated</td>\n",
       "      <td>2019</td>\n",
       "    </tr>\n",
       "    <tr>\n",
       "      <th>38</th>\n",
       "      <td>LaMarcus Aldridge</td>\n",
       "      <td>overrated</td>\n",
       "      <td>2019</td>\n",
       "    </tr>\n",
       "    <tr>\n",
       "      <th>39</th>\n",
       "      <td>LaMelo Ball</td>\n",
       "      <td>overrated</td>\n",
       "      <td>2022</td>\n",
       "    </tr>\n",
       "    <tr>\n",
       "      <th>42</th>\n",
       "      <td>Mike Conley</td>\n",
       "      <td>overrated</td>\n",
       "      <td>2021</td>\n",
       "    </tr>\n",
       "    <tr>\n",
       "      <th>44</th>\n",
       "      <td>Nikola Vučević</td>\n",
       "      <td>overrated, overrated</td>\n",
       "      <td>2019, 2021</td>\n",
       "    </tr>\n",
       "    <tr>\n",
       "      <th>47</th>\n",
       "      <td>Rudy Gobert</td>\n",
       "      <td>overrated, overrated</td>\n",
       "      <td>2021, 2022</td>\n",
       "    </tr>\n",
       "    <tr>\n",
       "      <th>52</th>\n",
       "      <td>Victor Oladipo</td>\n",
       "      <td>overrated</td>\n",
       "      <td>2019</td>\n",
       "    </tr>\n",
       "  </tbody>\n",
       "</table>\n",
       "</div>"
      ],
      "text/plain": [
       "               Player                Rating        Year\n",
       "0      Andrew Wiggins             overrated        2022\n",
       "2         Ben Simmons  overrated, overrated  2019, 2021\n",
       "9      Darius Garland             overrated        2022\n",
       "13      Dirk Nowitzki             overrated        2019\n",
       "16     Draymond Green             overrated        2022\n",
       "17        Dwyane Wade             overrated        2019\n",
       "18      Fred VanVleet             overrated        2022\n",
       "22      Jarrett Allen             overrated        2022\n",
       "23       Jaylen Brown             overrated        2021\n",
       "34    Khris Middleton  overrated, overrated  2019, 2022\n",
       "35      Klay Thompson             overrated        2019\n",
       "36         Kyle Lowry             overrated        2019\n",
       "38  LaMarcus Aldridge             overrated        2019\n",
       "39        LaMelo Ball             overrated        2022\n",
       "42        Mike Conley             overrated        2021\n",
       "44     Nikola Vučević  overrated, overrated  2019, 2021\n",
       "47        Rudy Gobert  overrated, overrated  2021, 2022\n",
       "52     Victor Oladipo             overrated        2019"
      ]
     },
     "execution_count": 185,
     "metadata": {},
     "output_type": "execute_result"
    }
   ],
   "source": [
    "as_summaries_grouped.loc[as_summaries_grouped.Rating.isin(['overrated, overrated', 'overrated, overrated, overrated', 'overrated'])]"
   ]
  },
  {
   "cell_type": "code",
   "execution_count": 190,
   "id": "8ff52ead-6dab-40e8-ae6c-e2010f9d01fd",
   "metadata": {},
   "outputs": [
    {
     "name": "stdout",
     "output_type": "stream",
     "text": [
      "2021\n",
      "2021\n",
      "2019\n",
      "2019\n",
      "2022\n",
      "2021, 2022\n"
     ]
    },
    {
     "data": {
      "text/plain": [
       "[None, None, None, None, None, None]"
      ]
     },
     "execution_count": 190,
     "metadata": {},
     "output_type": "execute_result"
    }
   ],
   "source": [
    "[print(n) for n in as_summaries_grouped.loc[as_summaries_grouped.Rating.isin(['underrated, underrated', 'underrated, underrated, underrated', 'underrated'])].Year.values]"
   ]
  },
  {
   "cell_type": "code",
   "execution_count": 186,
   "id": "e7b0109a-c40a-47fd-b914-690e6ac0d135",
   "metadata": {},
   "outputs": [
    {
     "data": {
      "text/html": [
       "<div>\n",
       "<style scoped>\n",
       "    .dataframe tbody tr th:only-of-type {\n",
       "        vertical-align: middle;\n",
       "    }\n",
       "\n",
       "    .dataframe tbody tr th {\n",
       "        vertical-align: top;\n",
       "    }\n",
       "\n",
       "    .dataframe thead th {\n",
       "        text-align: right;\n",
       "    }\n",
       "</style>\n",
       "<table border=\"1\" class=\"dataframe\">\n",
       "  <thead>\n",
       "    <tr style=\"text-align: right;\">\n",
       "      <th></th>\n",
       "      <th>Player</th>\n",
       "      <th>Rating</th>\n",
       "      <th>Year</th>\n",
       "    </tr>\n",
       "  </thead>\n",
       "  <tbody>\n",
       "    <tr>\n",
       "      <th>2</th>\n",
       "      <td>Ben Simmons</td>\n",
       "      <td>overrated, overrated</td>\n",
       "      <td>2019, 2021</td>\n",
       "    </tr>\n",
       "    <tr>\n",
       "      <th>34</th>\n",
       "      <td>Khris Middleton</td>\n",
       "      <td>overrated, overrated</td>\n",
       "      <td>2019, 2022</td>\n",
       "    </tr>\n",
       "    <tr>\n",
       "      <th>44</th>\n",
       "      <td>Nikola Vučević</td>\n",
       "      <td>overrated, overrated</td>\n",
       "      <td>2019, 2021</td>\n",
       "    </tr>\n",
       "    <tr>\n",
       "      <th>47</th>\n",
       "      <td>Rudy Gobert</td>\n",
       "      <td>overrated, overrated</td>\n",
       "      <td>2021, 2022</td>\n",
       "    </tr>\n",
       "  </tbody>\n",
       "</table>\n",
       "</div>"
      ],
      "text/plain": [
       "             Player                Rating        Year\n",
       "2       Ben Simmons  overrated, overrated  2019, 2021\n",
       "34  Khris Middleton  overrated, overrated  2019, 2022\n",
       "44   Nikola Vučević  overrated, overrated  2019, 2021\n",
       "47      Rudy Gobert  overrated, overrated  2021, 2022"
      ]
     },
     "execution_count": 186,
     "metadata": {},
     "output_type": "execute_result"
    }
   ],
   "source": [
    "as_summaries_grouped.loc[as_summaries_grouped.Rating.isin(['overrated, overrated'])]"
   ]
  },
  {
   "cell_type": "code",
   "execution_count": 177,
   "id": "256c1cf4-2d1a-4d6c-abaa-234e59869799",
   "metadata": {},
   "outputs": [
    {
     "data": {
      "text/html": [
       "<div>\n",
       "<style scoped>\n",
       "    .dataframe tbody tr th:only-of-type {\n",
       "        vertical-align: middle;\n",
       "    }\n",
       "\n",
       "    .dataframe tbody tr th {\n",
       "        vertical-align: top;\n",
       "    }\n",
       "\n",
       "    .dataframe thead th {\n",
       "        text-align: right;\n",
       "    }\n",
       "</style>\n",
       "<table border=\"1\" class=\"dataframe\">\n",
       "  <thead>\n",
       "    <tr style=\"text-align: right;\">\n",
       "      <th></th>\n",
       "      <th>Player</th>\n",
       "      <th>Rating</th>\n",
       "      <th>Year</th>\n",
       "    </tr>\n",
       "  </thead>\n",
       "  <tbody>\n",
       "    <tr>\n",
       "      <th>0</th>\n",
       "      <td>Andrew Wiggins</td>\n",
       "      <td>overrated</td>\n",
       "      <td>2022</td>\n",
       "    </tr>\n",
       "    <tr>\n",
       "      <th>2</th>\n",
       "      <td>Ben Simmons</td>\n",
       "      <td>overrated, overrated</td>\n",
       "      <td>2019, 2021</td>\n",
       "    </tr>\n",
       "    <tr>\n",
       "      <th>7</th>\n",
       "      <td>Chris Paul</td>\n",
       "      <td>overrated, properly rated</td>\n",
       "      <td>2021, 2022</td>\n",
       "    </tr>\n",
       "    <tr>\n",
       "      <th>9</th>\n",
       "      <td>Darius Garland</td>\n",
       "      <td>overrated</td>\n",
       "      <td>2022</td>\n",
       "    </tr>\n",
       "    <tr>\n",
       "      <th>13</th>\n",
       "      <td>Dirk Nowitzki</td>\n",
       "      <td>overrated</td>\n",
       "      <td>2019</td>\n",
       "    </tr>\n",
       "    <tr>\n",
       "      <th>15</th>\n",
       "      <td>Donovan Mitchell</td>\n",
       "      <td>overrated, properly rated</td>\n",
       "      <td>2021, 2022</td>\n",
       "    </tr>\n",
       "    <tr>\n",
       "      <th>16</th>\n",
       "      <td>Draymond Green</td>\n",
       "      <td>overrated</td>\n",
       "      <td>2022</td>\n",
       "    </tr>\n",
       "    <tr>\n",
       "      <th>17</th>\n",
       "      <td>Dwyane Wade</td>\n",
       "      <td>overrated</td>\n",
       "      <td>2019</td>\n",
       "    </tr>\n",
       "    <tr>\n",
       "      <th>18</th>\n",
       "      <td>Fred VanVleet</td>\n",
       "      <td>overrated</td>\n",
       "      <td>2022</td>\n",
       "    </tr>\n",
       "    <tr>\n",
       "      <th>22</th>\n",
       "      <td>Jarrett Allen</td>\n",
       "      <td>overrated</td>\n",
       "      <td>2022</td>\n",
       "    </tr>\n",
       "    <tr>\n",
       "      <th>23</th>\n",
       "      <td>Jaylen Brown</td>\n",
       "      <td>overrated</td>\n",
       "      <td>2021</td>\n",
       "    </tr>\n",
       "    <tr>\n",
       "      <th>34</th>\n",
       "      <td>Khris Middleton</td>\n",
       "      <td>overrated, overrated</td>\n",
       "      <td>2019, 2022</td>\n",
       "    </tr>\n",
       "    <tr>\n",
       "      <th>35</th>\n",
       "      <td>Klay Thompson</td>\n",
       "      <td>overrated</td>\n",
       "      <td>2019</td>\n",
       "    </tr>\n",
       "    <tr>\n",
       "      <th>36</th>\n",
       "      <td>Kyle Lowry</td>\n",
       "      <td>overrated</td>\n",
       "      <td>2019</td>\n",
       "    </tr>\n",
       "    <tr>\n",
       "      <th>38</th>\n",
       "      <td>LaMarcus Aldridge</td>\n",
       "      <td>overrated</td>\n",
       "      <td>2019</td>\n",
       "    </tr>\n",
       "    <tr>\n",
       "      <th>39</th>\n",
       "      <td>LaMelo Ball</td>\n",
       "      <td>overrated</td>\n",
       "      <td>2022</td>\n",
       "    </tr>\n",
       "    <tr>\n",
       "      <th>42</th>\n",
       "      <td>Mike Conley</td>\n",
       "      <td>overrated</td>\n",
       "      <td>2021</td>\n",
       "    </tr>\n",
       "    <tr>\n",
       "      <th>43</th>\n",
       "      <td>Nikola Jokić</td>\n",
       "      <td>overrated, properly rated, properly rated</td>\n",
       "      <td>2019, 2021, 2022</td>\n",
       "    </tr>\n",
       "    <tr>\n",
       "      <th>44</th>\n",
       "      <td>Nikola Vučević</td>\n",
       "      <td>overrated, overrated</td>\n",
       "      <td>2019, 2021</td>\n",
       "    </tr>\n",
       "    <tr>\n",
       "      <th>47</th>\n",
       "      <td>Rudy Gobert</td>\n",
       "      <td>overrated, overrated</td>\n",
       "      <td>2021, 2022</td>\n",
       "    </tr>\n",
       "    <tr>\n",
       "      <th>52</th>\n",
       "      <td>Victor Oladipo</td>\n",
       "      <td>overrated</td>\n",
       "      <td>2019</td>\n",
       "    </tr>\n",
       "    <tr>\n",
       "      <th>53</th>\n",
       "      <td>Zach LaVine</td>\n",
       "      <td>properly rated, overrated</td>\n",
       "      <td>2021, 2022</td>\n",
       "    </tr>\n",
       "  </tbody>\n",
       "</table>\n",
       "</div>"
      ],
      "text/plain": [
       "               Player                                     Rating  \\\n",
       "0      Andrew Wiggins                                  overrated   \n",
       "2         Ben Simmons                       overrated, overrated   \n",
       "7          Chris Paul                  overrated, properly rated   \n",
       "9      Darius Garland                                  overrated   \n",
       "13      Dirk Nowitzki                                  overrated   \n",
       "15   Donovan Mitchell                  overrated, properly rated   \n",
       "16     Draymond Green                                  overrated   \n",
       "17        Dwyane Wade                                  overrated   \n",
       "18      Fred VanVleet                                  overrated   \n",
       "22      Jarrett Allen                                  overrated   \n",
       "23       Jaylen Brown                                  overrated   \n",
       "34    Khris Middleton                       overrated, overrated   \n",
       "35      Klay Thompson                                  overrated   \n",
       "36         Kyle Lowry                                  overrated   \n",
       "38  LaMarcus Aldridge                                  overrated   \n",
       "39        LaMelo Ball                                  overrated   \n",
       "42        Mike Conley                                  overrated   \n",
       "43       Nikola Jokić  overrated, properly rated, properly rated   \n",
       "44     Nikola Vučević                       overrated, overrated   \n",
       "47        Rudy Gobert                       overrated, overrated   \n",
       "52     Victor Oladipo                                  overrated   \n",
       "53        Zach LaVine                  properly rated, overrated   \n",
       "\n",
       "                Year  \n",
       "0               2022  \n",
       "2         2019, 2021  \n",
       "7         2021, 2022  \n",
       "9               2022  \n",
       "13              2019  \n",
       "15        2021, 2022  \n",
       "16              2022  \n",
       "17              2019  \n",
       "18              2022  \n",
       "22              2022  \n",
       "23              2021  \n",
       "34        2019, 2022  \n",
       "35              2019  \n",
       "36              2019  \n",
       "38              2019  \n",
       "39              2022  \n",
       "42              2021  \n",
       "43  2019, 2021, 2022  \n",
       "44        2019, 2021  \n",
       "47        2021, 2022  \n",
       "52              2019  \n",
       "53        2021, 2022  "
      ]
     },
     "execution_count": 177,
     "metadata": {},
     "output_type": "execute_result"
    }
   ],
   "source": [
    "as_summaries_grouped.loc[as_summaries_grouped.Rating.str.contains('overrated')]"
   ]
  },
  {
   "cell_type": "code",
   "execution_count": 174,
   "id": "aff993e6-9015-4d1c-b86e-6afc129d89e4",
   "metadata": {},
   "outputs": [],
   "source": [
    "as_summaries_grouped.to_csv('all_star_classifier_summary.csv', index = False)"
   ]
  },
  {
   "cell_type": "code",
   "execution_count": 145,
   "id": "b283ce61-6d56-4f9c-ac5c-0036dbbc217a",
   "metadata": {},
   "outputs": [
    {
     "name": "stdout",
     "output_type": "stream",
     "text": [
      "|    | Season    |   Recall Score |\n",
      "|---:|:----------|---------------:|\n",
      "|  0 | 2019-2018 |          0.615 |\n",
      "|  1 | 2020-2021 |          0.741 |\n",
      "|  2 | 2021-2022 |          0.667 |\n"
     ]
    }
   ],
   "source": [
    "print(pd.DataFrame([('2019-2018', round(metrics.recall_score(y_test_as, test_as_pred), 3)),\n",
    "('2020-2021', round(metrics.recall_score(y_test_as_2021, knn_as_results_2021['prediction']), 3)),\n",
    " ('2021-2022', round(metrics.recall_score(y_test_as_2022, knn_as_results_2022['prediction']), 3))], columns = ['Season', 'Recall Score']).to_markdown())\n",
    " "
   ]
  },
  {
   "cell_type": "markdown",
   "id": "d665355a-50a3-47de-a03c-e749b2f23c7f",
   "metadata": {},
   "source": [
    "| Season    |   Recall Score |\n",
    "|:----------|---------------:|\n",
    "| 2019-2018 |          0.615 |\n",
    "| 2020-2021 |          0.741 |\n",
    "| 2021-2022 |          0.667 |"
   ]
  },
  {
   "cell_type": "code",
   "execution_count": null,
   "id": "128402b7-5fc8-4c57-b035-5d06f251ebec",
   "metadata": {},
   "outputs": [],
   "source": []
  }
 ],
 "metadata": {
  "kernelspec": {
   "display_name": "Python 3",
   "language": "python",
   "name": "python3"
  },
  "language_info": {
   "codemirror_mode": {
    "name": "ipython",
    "version": 3
   },
   "file_extension": ".py",
   "mimetype": "text/x-python",
   "name": "python",
   "nbconvert_exporter": "python",
   "pygments_lexer": "ipython3",
   "version": "3.8.8"
  }
 },
 "nbformat": 4,
 "nbformat_minor": 5
}
